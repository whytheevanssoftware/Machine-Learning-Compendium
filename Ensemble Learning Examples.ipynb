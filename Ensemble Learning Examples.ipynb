{
 "cells": [
  {
   "cell_type": "markdown",
   "metadata": {},
   "source": [
    "# Ensemble Learning Example with a Linear Regression Base\n",
    "### Chistopher Evans \n",
    "### November 7, 2019"
   ]
  },
  {
   "cell_type": "markdown",
   "metadata": {},
   "source": [
    "We are continuing work from the notebook titled 'Data Processing and EDA'. We are now going to see the reactions of various machine learning algorithms using scikit. There will be annotations that will add more clarity to the results.\n",
    "\n",
    "To retain simplicity, the purpose of the models is to see if ASD Traits can be detected through the 10 questions themsleves. Performance will be evaluated and compared."
   ]
  },
  {
   "cell_type": "markdown",
   "metadata": {},
   "source": [
    "## Gathering The Data"
   ]
  },
  {
   "cell_type": "code",
   "execution_count": 7,
   "metadata": {},
   "outputs": [],
   "source": [
    "from IPython.core.interactiveshell import InteractiveShell\n",
    "import pandas as pd\n",
    "from pandas.plotting import scatter_matrix\n",
    "import matplotlib.pyplot as plt\n",
    "import numpy as np\n",
    "from sklearn import datasets, model_selection\n",
    "import warnings\n",
    "warnings.filterwarnings('ignore')\n",
    "\n",
    "InteractiveShell.ast_node_interactivity = \"all\"\n",
    "\n",
    "# Importing the actual datasets\n",
    "screening = pd.read_csv(\"Toddler Autism dataset July 2018.csv\")\n",
    "\n",
    "# Extracting the names of the columns for future use\n",
    "colnames = ['A1', 'A2', 'A3', 'A4', 'A5', 'A6', 'A7', 'A8', 'A9', 'A10']\n",
    "results = ['Class/ASD Traits ']\n",
    "\n",
    "#Gathering all of the data\n",
    "screening_extracted = screening[colnames]\n",
    "screening_answers = screening[results]\n",
    "\n",
    "# Simplifying the data into 1s and 0s for easier use\n",
    "screening_numerical = screening_answers.eq(\"Yes\").mul(1)"
   ]
  },
  {
   "cell_type": "markdown",
   "metadata": {},
   "source": [
    "## Linear Regression Base Classifier"
   ]
  },
  {
   "cell_type": "code",
   "execution_count": 27,
   "metadata": {},
   "outputs": [
    {
     "data": {
      "text/plain": [
       "LinearRegression(copy_X=True, fit_intercept=True, n_jobs=None,\n",
       "         normalize=False)"
      ]
     },
     "execution_count": 27,
     "metadata": {},
     "output_type": "execute_result"
    },
    {
     "name": "stdout",
     "output_type": "stream",
     "text": [
      "F1 Score:\n",
      "0.9857142857142858\n"
     ]
    }
   ],
   "source": [
    "import numpy as np\n",
    "from sklearn import datasets, linear_model\n",
    "from sklearn.model_selection import train_test_split\n",
    "\n",
    "# Setting up the variables\n",
    "X = screening_extracted.as_matrix()\n",
    "y = screening_numerical.as_matrix()\n",
    "\n",
    "# Setting up the sets\n",
    "train_set, test_set = train_test_split(X, test_size=0.2, random_state = 42)\n",
    "train_set2, test_set2 = train_test_split(y, test_size=0.2, random_state = 42)\n",
    "\n",
    "# Doing linear regression\n",
    "screening_lin = linear_model.LinearRegression()\n",
    "screening_lin.fit(train_set, train_set2)\n",
    "results = screening_lin.predict(test_set)\n",
    "\n",
    "from sklearn.metrics import f1_score\n",
    "\n",
    "# Getting the F1 score\n",
    "print (\"F1 Score:\")\n",
    "print (f1_score(test_set2, results.round()))"
   ]
  },
  {
   "cell_type": "markdown",
   "metadata": {},
   "source": [
    "## Random Forests"
   ]
  },
  {
   "cell_type": "code",
   "execution_count": 17,
   "metadata": {},
   "outputs": [
    {
     "data": {
      "text/plain": [
       "RandomForestClassifier(bootstrap=True, class_weight=None, criterion='gini',\n",
       "            max_depth=None, max_features='auto', max_leaf_nodes=None,\n",
       "            min_impurity_decrease=0.0, min_impurity_split=None,\n",
       "            min_samples_leaf=1, min_samples_split=2,\n",
       "            min_weight_fraction_leaf=0.0, n_estimators=10, n_jobs=None,\n",
       "            oob_score=False, random_state=None, verbose=0,\n",
       "            warm_start=False)"
      ]
     },
     "execution_count": 17,
     "metadata": {},
     "output_type": "execute_result"
    }
   ],
   "source": [
    "from sklearn.ensemble import RandomForestClassifier\n",
    "\n",
    "screening_tree = RandomForestClassifier()\n",
    "screening_tree.fit(train_set, train_set2)\n",
    "results = screening_tree.predict(test_set)"
   ]
  },
  {
   "cell_type": "code",
   "execution_count": 18,
   "metadata": {},
   "outputs": [
    {
     "name": "stdout",
     "output_type": "stream",
     "text": [
      "Confustion Matrix:\n",
      "[ 68   1   3 139]\n",
      "Precision:\n",
      "0.9928571428571429\n",
      "Recall:\n",
      "0.9788732394366197\n",
      "F1 Score:\n",
      "0.9858156028368794\n",
      "Area Under the ROC:\n",
      "0.9821902429067156\n"
     ]
    },
    {
     "data": {
      "image/png": "[encoded data removed]",
      "text/plain": [
       "<Figure size 432x288 with 1 Axes>"
      ]
     },
     "metadata": {
      "needs_background": "light"
     },
     "output_type": "display_data"
    }
   ],
   "source": [
    "from sklearn.metrics import f1_score\n",
    "from sklearn.metrics import roc_auc_score\n",
    "from sklearn.metrics import roc_curve\n",
    "from sklearn.metrics import confusion_matrix\n",
    "\n",
    "# Getting the confusion matrix\n",
    "returned = confusion_matrix(test_set2, results, labels = [0,1]).ravel()\n",
    "\n",
    "if len(returned) == 4:\n",
    "    tn, fp, fn, tp = returned\n",
    "precision = (tp/(tp + fp))\n",
    "recall = (tp/(tp + fn))\n",
    "    \n",
    "print (\"Confustion Matrix:\")    \n",
    "print (returned)\n",
    "print (\"Precision:\")    \n",
    "print (precision)\n",
    "print (\"Recall:\")    \n",
    "print (recall)\n",
    "\n",
    "# Getting the F1 score\n",
    "print (\"F1 Score:\")\n",
    "print (f1_score(test_set2, results))\n",
    "# Getting the Area Under the ROC\n",
    "print (\"Area Under the ROC:\")    \n",
    "print (roc_auc_score(test_set2, results))\n",
    "\n",
    "# Getting the ROC Curve\n",
    "fpr, tpr, thresholds = roc_curve(test_set2, results)\n",
    "\n",
    "def plot_roc_curve(fpr, tpr, label=None):\n",
    "    plt.plot(fpr, tpr, linewidth = 2, label=label)\n",
    "    plt.plot([0,1],[0,1],'k--')\n",
    "    plt.axis([0,1,0,1])\n",
    "    plt.xlabel('False Positive Rate')\n",
    "    plt.ylabel('Ture Positive Rate')\n",
    "\n",
    "# Plotting the curve\n",
    "plot_roc_curve(fpr, tpr)\n",
    "plt.show()"
   ]
  },
  {
   "cell_type": "markdown",
   "metadata": {},
   "source": [
    "## Bagging"
   ]
  },
  {
   "cell_type": "code",
   "execution_count": 20,
   "metadata": {},
   "outputs": [
    {
     "data": {
      "text/plain": [
       "BaggingClassifier(base_estimator=DecisionTreeClassifier(class_weight=None, criterion='gini', max_depth=None,\n",
       "            max_features=None, max_leaf_nodes=None,\n",
       "            min_impurity_decrease=0.0, min_impurity_split=None,\n",
       "            min_samples_leaf=1, min_samples_split=2,\n",
       "            min_weight_fraction_leaf=0.0, presort=False, random_state=42,\n",
       "            splitter='best'),\n",
       "         bootstrap=True, bootstrap_features=False, max_features=1.0,\n",
       "         max_samples=100, n_estimators=500, n_jobs=-1, oob_score=False,\n",
       "         random_state=42, verbose=0, warm_start=False)"
      ]
     },
     "execution_count": 20,
     "metadata": {},
     "output_type": "execute_result"
    }
   ],
   "source": [
    "from sklearn.ensemble import BaggingClassifier\n",
    "from sklearn.tree import DecisionTreeClassifier\n",
    "\n",
    "screening_bag = BaggingClassifier(DecisionTreeClassifier(random_state=42), n_estimators=500, max_samples=100, bootstrap=True, n_jobs=-1, random_state=42)\n",
    "screening_bag.fit(train_set, train_set2)\n",
    "results = screening_bag.predict(test_set)"
   ]
  },
  {
   "cell_type": "code",
   "execution_count": 21,
   "metadata": {},
   "outputs": [
    {
     "name": "stdout",
     "output_type": "stream",
     "text": [
      "Confustion Matrix:\n",
      "[ 69   0   1 141]\n",
      "Precision:\n",
      "1.0\n",
      "Recall:\n",
      "0.9929577464788732\n",
      "F1 Score:\n",
      "0.9964664310954063\n",
      "Area Under the ROC:\n",
      "0.9964788732394366\n"
     ]
    },
    {
     "data": {
      "image/png": "[encoded data removed]",
      "text/plain": [
       "<Figure size 432x288 with 1 Axes>"
      ]
     },
     "metadata": {
      "needs_background": "light"
     },
     "output_type": "display_data"
    }
   ],
   "source": [
    "from sklearn.metrics import f1_score\n",
    "from sklearn.metrics import roc_auc_score\n",
    "from sklearn.metrics import roc_curve\n",
    "from sklearn.metrics import confusion_matrix\n",
    "\n",
    "# Getting the confusion matrix\n",
    "returned = confusion_matrix(test_set2, results, labels = [0,1]).ravel()\n",
    "\n",
    "if len(returned) == 4:\n",
    "    tn, fp, fn, tp = returned\n",
    "precision = (tp/(tp + fp))\n",
    "recall = (tp/(tp + fn))\n",
    "    \n",
    "print (\"Confustion Matrix:\")    \n",
    "print (returned)\n",
    "print (\"Precision:\")    \n",
    "print (precision)\n",
    "print (\"Recall:\")    \n",
    "print (recall)\n",
    "\n",
    "# Getting the F1 score\n",
    "print (\"F1 Score:\")\n",
    "print (f1_score(test_set2, results))\n",
    "# Getting the Area Under the ROC\n",
    "print (\"Area Under the ROC:\")    \n",
    "print (roc_auc_score(test_set2, results))\n",
    "\n",
    "# Getting the ROC Curve\n",
    "fpr, tpr, thresholds = roc_curve(test_set2, results)\n",
    "\n",
    "def plot_roc_curve(fpr, tpr, label=None):\n",
    "    plt.plot(fpr, tpr, linewidth = 2, label=label)\n",
    "    plt.plot([0,1],[0,1],'k--')\n",
    "    plt.axis([0,1,0,1])\n",
    "    plt.xlabel('False Positive Rate')\n",
    "    plt.ylabel('Ture Positive Rate')\n",
    "\n",
    "# Plotting the curve\n",
    "plot_roc_curve(fpr, tpr)\n",
    "plt.show()"
   ]
  },
  {
   "cell_type": "markdown",
   "metadata": {},
   "source": [
    "## Adaboost"
   ]
  },
  {
   "cell_type": "code",
   "execution_count": 22,
   "metadata": {},
   "outputs": [
    {
     "data": {
      "text/plain": [
       "AdaBoostClassifier(algorithm='SAMME.R', base_estimator=None,\n",
       "          learning_rate=1.0, n_estimators=50, random_state=None)"
      ]
     },
     "execution_count": 22,
     "metadata": {},
     "output_type": "execute_result"
    }
   ],
   "source": [
    "from sklearn.ensemble import AdaBoostClassifier\n",
    "\n",
    "screening_boost = AdaBoostClassifier()\n",
    "screening_boost.fit(train_set, train_set2)\n",
    "results = screening_boost.predict(test_set)"
   ]
  },
  {
   "cell_type": "code",
   "execution_count": 23,
   "metadata": {},
   "outputs": [
    {
     "name": "stdout",
     "output_type": "stream",
     "text": [
      "Confustion Matrix:\n",
      "[ 69   0   0 142]\n",
      "Precision:\n",
      "1.0\n",
      "Recall:\n",
      "1.0\n",
      "F1 Score:\n",
      "1.0\n",
      "Area Under the ROC:\n",
      "1.0\n"
     ]
    },
    {
     "data": {
      "image/png": "[encoded data removed]",
      "text/plain": [
       "<Figure size 432x288 with 1 Axes>"
      ]
     },
     "metadata": {
      "needs_background": "light"
     },
     "output_type": "display_data"
    }
   ],
   "source": [
    "from sklearn.metrics import f1_score\n",
    "from sklearn.metrics import roc_auc_score\n",
    "from sklearn.metrics import roc_curve\n",
    "from sklearn.metrics import confusion_matrix\n",
    "\n",
    "# Getting the confusion matrix\n",
    "returned = confusion_matrix(test_set2, results, labels = [0,1]).ravel()\n",
    "\n",
    "if len(returned) == 4:\n",
    "    tn, fp, fn, tp = returned\n",
    "precision = (tp/(tp + fp))\n",
    "recall = (tp/(tp + fn))\n",
    "    \n",
    "print (\"Confustion Matrix:\")    \n",
    "print (returned)\n",
    "print (\"Precision:\")    \n",
    "print (precision)\n",
    "print (\"Recall:\")    \n",
    "print (recall)\n",
    "\n",
    "# Getting the F1 score\n",
    "print (\"F1 Score:\")\n",
    "print (f1_score(test_set2, results))\n",
    "# Getting the Area Under the ROC\n",
    "print (\"Area Under the ROC:\")    \n",
    "print (roc_auc_score(test_set2, results))\n",
    "\n",
    "# Getting the ROC Curve\n",
    "fpr, tpr, thresholds = roc_curve(test_set2, results)\n",
    "\n",
    "def plot_roc_curve(fpr, tpr, label=None):\n",
    "    plt.plot(fpr, tpr, linewidth = 2, label=label)\n",
    "    plt.plot([0,1],[0,1],'k--')\n",
    "    plt.axis([0,1,0,1])\n",
    "    plt.xlabel('False Positive Rate')\n",
    "    plt.ylabel('Ture Positive Rate')\n",
    "\n",
    "# Plotting the curve\n",
    "plot_roc_curve(fpr, tpr)\n",
    "plt.show()"
   ]
  },
  {
   "cell_type": "markdown",
   "metadata": {},
   "source": [
    "This is where we look to see how important the features considered were. As we can the answers of quesiton 8 were the most important, but not by much."
   ]
  },
  {
   "cell_type": "code",
   "execution_count": 25,
   "metadata": {},
   "outputs": [
    {
     "name": "stdout",
     "output_type": "stream",
     "text": [
      "Case_No 0.07804513823313684\n",
      "A1 0.11076980834554873\n",
      "A2 0.034325450294954915\n",
      "A3 0.08987888733744431\n",
      "A4 0.09404606585435538\n",
      "A5 0.11254993919055008\n",
      "A6 0.1540145401792586\n",
      "A7 0.08612710239460555\n",
      "A8 0.1943060911698114\n",
      "A9 0.04593697700033418\n"
     ]
    }
   ],
   "source": [
    "for name, score in zip(screening, screening_tree.feature_importances_):\n",
    "    print(name, score)"
   ]
  },
  {
   "cell_type": "code",
   "execution_count": null,
   "metadata": {},
   "outputs": [],
   "source": []
  }
 ],
 "metadata": {
  "kernelspec": {
   "display_name": "Python 3",
   "language": "python",
   "name": "python3"
  },
  "language_info": {
   "codemirror_mode": {
    "name": "ipython",
    "version": 3
   },
   "file_extension": ".py",
   "mimetype": "text/x-python",
   "name": "python",
   "nbconvert_exporter": "python",
   "pygments_lexer": "ipython3",
   "version": "3.7.3"
  }
 },
 "nbformat": 4,
 "nbformat_minor": 2
}
